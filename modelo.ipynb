{
 "cells": [
  {
   "attachments": {},
   "cell_type": "markdown",
   "metadata": {},
   "source": [
    "# **Machine Learning**"
   ]
  },
  {
   "attachments": {},
   "cell_type": "markdown",
   "metadata": {},
   "source": [
    "#### Realizaremos un modelo de recomendación de películas en base a nuestro set de datos de streaming"
   ]
  },
  {
   "cell_type": "code",
   "execution_count": 211,
   "metadata": {},
   "outputs": [],
   "source": [
    "# Librerias a utilizar\n",
    "import pandas as pd\n",
    "import re\n",
    "from sklearn import preprocessing"
   ]
  },
  {
   "cell_type": "code",
   "execution_count": 212,
   "metadata": {},
   "outputs": [],
   "source": [
    "# Importamos el data set \"df_streaming\" anteriormente tratado en el archivo (ETL.ipynb)\n",
    "df = pd.read_csv(\"Datasets/df_streaming_completo.csv\")"
   ]
  },
  {
   "attachments": {},
   "cell_type": "markdown",
   "metadata": {},
   "source": [
    "## `Transformaciones` a realizar :\n",
    "\n",
    "+ Eliminaremos las columnas \"country\", \"date_added\", \"director\", \"cast\", \"show_id\".\n",
    "\n",
    "+ Solucionaremos un error de datos de la columna \"rating\".\n",
    "+ Imputaremos los valores faltantes en \"duration_type\", \"duration_int\", y \"description\".\n",
    "+ Aplicaremos dummies a la columna \"listed_in\" (que contiene los géneros) y a la columna \"type\".\n",
    "+ Aplicaremos un pre-procesamiento a la columna \"rating\"para convertirlas a numéricas.\n"
   ]
  },
  {
   "attachments": {},
   "cell_type": "markdown",
   "metadata": {},
   "source": [
    "##### `Aclaración` : Dado la corta experiencia en ingenieria de datos y ML, se decide no utilizar ciertas columnas, eliminándolas del análisis. Estas mismas podrían tener algún valor predictivo para el armado del modelo, pero esto requiere más tiempo y cuidado. Y este proyecto sigue una metodología MVP buscando tener un \"Minimum Viable Product\" lo más rápido posible"
   ]
  },
  {
   "cell_type": "code",
   "execution_count": 213,
   "metadata": {},
   "outputs": [],
   "source": [
    "# También dropeamos las columnas \"duration_int\",\"duration_type\" ya que en el paso siguiente volvemos a hacer el split\n",
    "df.drop([\"country\",\"date_added\",\"director\",\"cast\",\"show_id\",\"duration_int\",\"duration_type\"],axis=1 , inplace=True)"
   ]
  },
  {
   "cell_type": "code",
   "execution_count": 214,
   "metadata": {},
   "outputs": [],
   "source": [
    "# Iterar en el dataframe\n",
    "for indice, fila in df.iterrows():\n",
    "    match = re.search(r'\\d+\\s*min', fila[\"rating\"])\n",
    "    match2 = re.search(r'\\d+\\s*season', fila[\"rating\"])\n",
    "    # Imputamos en columna duration esas filas que están en rating\n",
    "    if match:\n",
    "        df.at[indice, \"duration\"] = fila[\"rating\"]\n",
    "    if match2:\n",
    "        df.at[indice, \"duration\"] = fila[\"rating\"]\n",
    "\n",
    "# Reemplazamos los valores erróneos por \"sin dato\"\n",
    "df.loc[df['rating'].str.contains(r'\\d+\\s*min'), 'rating'] = 'sin dato'\n",
    "df.loc[df['rating'].str.contains(r'\\d+\\s*season'), 'rating'] = 'sin dato'\n",
    "\n",
    "# Utilizamos el método str.split para separar el campo \"duration\" a través del espacio \n",
    "df[[\"duration_int\", \"duration_type\"]] = df[\"duration\"].str.split(\" \", n=1, expand=True)\n",
    "\n",
    "# Unificamos \"seasons\" y \"season\" en la columna duration_type\n",
    "df.loc[df['duration_type']=='seasons', 'duration_type'] = 'season'\n",
    "\n",
    "# Eliminamos del modelo la columna \"duration\"\n",
    "df.drop(\"duration\",inplace=True,axis=1)"
   ]
  },
  {
   "cell_type": "code",
   "execution_count": 215,
   "metadata": {},
   "outputs": [],
   "source": [
    "# Trabajaremos con \"duration_int\"\n",
    "# primero rellenamos con 0 y cambiamos el tipo de dato\n",
    "df[\"duration_int\"].fillna(0,inplace=True)\n",
    "df[\"duration_int\"] = df[\"duration_int\"].astype(int) \n",
    "\n",
    "# Ahora podemos imputarle los valores faltantes a través de la mediana para ser robusta a valores atípicos\n",
    "median_duration = df[\"duration_int\"].median()\n",
    "\n",
    "# Por lo que se pudo observar en el EDA, los valores faltantes en \"duration_int\" son solo de películas\n",
    "df[\"duration_int\"].fillna(median_duration,inplace=True)\n",
    "\n",
    "# Entonces en \"duration_type\" se imputa el valor str \"min\" solo donde sea película\n",
    "df[\"duration_type\"].fillna(df[\"type\"].where(df[\"type\"]==\"tv Show\", other=\"min\"), inplace=True)\n"
   ]
  },
  {
   "cell_type": "code",
   "execution_count": 216,
   "metadata": {},
   "outputs": [
    {
     "data": {
      "text/plain": [
       "movie      16481\n",
       "tv show     6517\n",
       "Name: type, dtype: int64"
      ]
     },
     "execution_count": 216,
     "metadata": {},
     "output_type": "execute_result"
    }
   ],
   "source": [
    "# Se puede observar de que dan distintos números los datos\n",
    "df[\"type\"].value_counts()"
   ]
  },
  {
   "cell_type": "code",
   "execution_count": 217,
   "metadata": {},
   "outputs": [
    {
     "data": {
      "text/plain": [
       "min       16419\n",
       "season     6579\n",
       "Name: duration_type, dtype: int64"
      ]
     },
     "execution_count": 217,
     "metadata": {},
     "output_type": "execute_result"
    }
   ],
   "source": [
    "df[\"duration_type\"].value_counts() "
   ]
  },
  {
   "cell_type": "code",
   "execution_count": 218,
   "metadata": {},
   "outputs": [
    {
     "data": {
      "text/html": [
       "<div>\n",
       "<style scoped>\n",
       "    .dataframe tbody tr th:only-of-type {\n",
       "        vertical-align: middle;\n",
       "    }\n",
       "\n",
       "    .dataframe tbody tr th {\n",
       "        vertical-align: top;\n",
       "    }\n",
       "\n",
       "    .dataframe thead th {\n",
       "        text-align: right;\n",
       "    }\n",
       "</style>\n",
       "<table border=\"1\" class=\"dataframe\">\n",
       "  <thead>\n",
       "    <tr style=\"text-align: right;\">\n",
       "      <th></th>\n",
       "      <th>type</th>\n",
       "      <th>title</th>\n",
       "      <th>release_year</th>\n",
       "      <th>rating</th>\n",
       "      <th>listed_in</th>\n",
       "      <th>description</th>\n",
       "      <th>id</th>\n",
       "      <th>score</th>\n",
       "      <th>duration_int</th>\n",
       "      <th>duration_type</th>\n",
       "    </tr>\n",
       "  </thead>\n",
       "  <tbody>\n",
       "    <tr>\n",
       "      <th>11168</th>\n",
       "      <td>movie</td>\n",
       "      <td>yashahime: princess half-demon</td>\n",
       "      <td>2020</td>\n",
       "      <td>sin dato</td>\n",
       "      <td>anime</td>\n",
       "      <td>long-lost twins towa and setsuna reunite after...</td>\n",
       "      <td>hs51</td>\n",
       "      <td>3.56</td>\n",
       "      <td>2</td>\n",
       "      <td>season</td>\n",
       "    </tr>\n",
       "    <tr>\n",
       "      <th>11381</th>\n",
       "      <td>movie</td>\n",
       "      <td>trolls: trollstopia</td>\n",
       "      <td>2020</td>\n",
       "      <td>sin dato</td>\n",
       "      <td>family, kids</td>\n",
       "      <td>trolls: trollstopia! is the next chapter in th...</td>\n",
       "      <td>hs264</td>\n",
       "      <td>3.57</td>\n",
       "      <td>4</td>\n",
       "      <td>season</td>\n",
       "    </tr>\n",
       "    <tr>\n",
       "      <th>11589</th>\n",
       "      <td>movie</td>\n",
       "      <td>this way up</td>\n",
       "      <td>2019</td>\n",
       "      <td>sin dato</td>\n",
       "      <td>comedy, drama, international</td>\n",
       "      <td>this way up is a comedy drama about moving on,...</td>\n",
       "      <td>hs472</td>\n",
       "      <td>3.54</td>\n",
       "      <td>2</td>\n",
       "      <td>season</td>\n",
       "    </tr>\n",
       "    <tr>\n",
       "      <th>11919</th>\n",
       "      <td>movie</td>\n",
       "      <td>everything's gonna be okay</td>\n",
       "      <td>2020</td>\n",
       "      <td>sin dato</td>\n",
       "      <td>comedy, drama</td>\n",
       "      <td>australian twenty-something nicholas is left t...</td>\n",
       "      <td>hs802</td>\n",
       "      <td>3.58</td>\n",
       "      <td>2</td>\n",
       "      <td>season</td>\n",
       "    </tr>\n",
       "    <tr>\n",
       "      <th>11965</th>\n",
       "      <td>movie</td>\n",
       "      <td>juda</td>\n",
       "      <td>2017</td>\n",
       "      <td>sin dato</td>\n",
       "      <td>action, adventure, crime</td>\n",
       "      <td>juda is a low-life gambler hustling a living i...</td>\n",
       "      <td>hs848</td>\n",
       "      <td>3.48</td>\n",
       "      <td>2</td>\n",
       "      <td>season</td>\n",
       "    </tr>\n",
       "    <tr>\n",
       "      <th>...</th>\n",
       "      <td>...</td>\n",
       "      <td>...</td>\n",
       "      <td>...</td>\n",
       "      <td>...</td>\n",
       "      <td>...</td>\n",
       "      <td>...</td>\n",
       "      <td>...</td>\n",
       "      <td>...</td>\n",
       "      <td>...</td>\n",
       "      <td>...</td>\n",
       "    </tr>\n",
       "    <tr>\n",
       "      <th>14026</th>\n",
       "      <td>movie</td>\n",
       "      <td>the wrong mans</td>\n",
       "      <td>2013</td>\n",
       "      <td>sin dato</td>\n",
       "      <td>action, adventure, comedy</td>\n",
       "      <td>lowly office workers sam (matthew baynton) and...</td>\n",
       "      <td>hs2909</td>\n",
       "      <td>3.48</td>\n",
       "      <td>2</td>\n",
       "      <td>season</td>\n",
       "    </tr>\n",
       "    <tr>\n",
       "      <th>14044</th>\n",
       "      <td>movie</td>\n",
       "      <td>the hotwives of orlando</td>\n",
       "      <td>2014</td>\n",
       "      <td>sin dato</td>\n",
       "      <td>comedy, sitcom</td>\n",
       "      <td>the reality genre parody examines the glamorou...</td>\n",
       "      <td>hs2927</td>\n",
       "      <td>3.54</td>\n",
       "      <td>1</td>\n",
       "      <td>season</td>\n",
       "    </tr>\n",
       "    <tr>\n",
       "      <th>14069</th>\n",
       "      <td>movie</td>\n",
       "      <td>all saints (1998)</td>\n",
       "      <td>1998</td>\n",
       "      <td>sin dato</td>\n",
       "      <td>drama, international</td>\n",
       "      <td>all saints is an australian medical drama focu...</td>\n",
       "      <td>hs2952</td>\n",
       "      <td>3.60</td>\n",
       "      <td>12</td>\n",
       "      <td>season</td>\n",
       "    </tr>\n",
       "    <tr>\n",
       "      <th>14073</th>\n",
       "      <td>movie</td>\n",
       "      <td>getting on</td>\n",
       "      <td>2009</td>\n",
       "      <td>sin dato</td>\n",
       "      <td>comedy, international, sitcom</td>\n",
       "      <td>care for the elderly is the least glamorous ar...</td>\n",
       "      <td>hs2956</td>\n",
       "      <td>3.56</td>\n",
       "      <td>3</td>\n",
       "      <td>season</td>\n",
       "    </tr>\n",
       "    <tr>\n",
       "      <th>14077</th>\n",
       "      <td>movie</td>\n",
       "      <td>packed to the rafters</td>\n",
       "      <td>2008</td>\n",
       "      <td>sin dato</td>\n",
       "      <td>comedy, drama, international</td>\n",
       "      <td>packed to the rafters is an australian family-...</td>\n",
       "      <td>hs2960</td>\n",
       "      <td>3.50</td>\n",
       "      <td>6</td>\n",
       "      <td>season</td>\n",
       "    </tr>\n",
       "  </tbody>\n",
       "</table>\n",
       "<p>62 rows × 10 columns</p>\n",
       "</div>"
      ],
      "text/plain": [
       "        type                           title  release_year    rating  \\\n",
       "11168  movie  yashahime: princess half-demon          2020  sin dato   \n",
       "11381  movie             trolls: trollstopia          2020  sin dato   \n",
       "11589  movie                     this way up          2019  sin dato   \n",
       "11919  movie      everything's gonna be okay          2020  sin dato   \n",
       "11965  movie                            juda          2017  sin dato   \n",
       "...      ...                             ...           ...       ...   \n",
       "14026  movie                  the wrong mans          2013  sin dato   \n",
       "14044  movie         the hotwives of orlando          2014  sin dato   \n",
       "14069  movie               all saints (1998)          1998  sin dato   \n",
       "14073  movie                      getting on          2009  sin dato   \n",
       "14077  movie           packed to the rafters          2008  sin dato   \n",
       "\n",
       "                           listed_in  \\\n",
       "11168                          anime   \n",
       "11381                   family, kids   \n",
       "11589   comedy, drama, international   \n",
       "11919                  comedy, drama   \n",
       "11965       action, adventure, crime   \n",
       "...                              ...   \n",
       "14026      action, adventure, comedy   \n",
       "14044                 comedy, sitcom   \n",
       "14069           drama, international   \n",
       "14073  comedy, international, sitcom   \n",
       "14077   comedy, drama, international   \n",
       "\n",
       "                                             description      id  score  \\\n",
       "11168  long-lost twins towa and setsuna reunite after...    hs51   3.56   \n",
       "11381  trolls: trollstopia! is the next chapter in th...   hs264   3.57   \n",
       "11589  this way up is a comedy drama about moving on,...   hs472   3.54   \n",
       "11919  australian twenty-something nicholas is left t...   hs802   3.58   \n",
       "11965  juda is a low-life gambler hustling a living i...   hs848   3.48   \n",
       "...                                                  ...     ...    ...   \n",
       "14026  lowly office workers sam (matthew baynton) and...  hs2909   3.48   \n",
       "14044  the reality genre parody examines the glamorou...  hs2927   3.54   \n",
       "14069  all saints is an australian medical drama focu...  hs2952   3.60   \n",
       "14073  care for the elderly is the least glamorous ar...  hs2956   3.56   \n",
       "14077  packed to the rafters is an australian family-...  hs2960   3.50   \n",
       "\n",
       "       duration_int duration_type  \n",
       "11168             2        season  \n",
       "11381             4        season  \n",
       "11589             2        season  \n",
       "11919             2        season  \n",
       "11965             2        season  \n",
       "...             ...           ...  \n",
       "14026             2        season  \n",
       "14044             1        season  \n",
       "14069            12        season  \n",
       "14073             3        season  \n",
       "14077             6        season  \n",
       "\n",
       "[62 rows x 10 columns]"
      ]
     },
     "execution_count": 218,
     "metadata": {},
     "output_type": "execute_result"
    }
   ],
   "source": [
    "# Aquí podemos observar que el \"type\" es movie, pero duration_int y duration_type dicen que es season. Para corroborar buscamos alguno de los titulos en google.\n",
    "df[(df[\"type\"] == \"movie\") & (df[\"duration_type\"] != \"min\")]"
   ]
  },
  {
   "cell_type": "code",
   "execution_count": 219,
   "metadata": {},
   "outputs": [],
   "source": [
    "# Y llegamos a la conclusión de que los valores erroneos son los de \"type\", por lo que lo reemplazamos por tv show\n",
    "df.loc[(df[\"type\"] == \"movie\") & (df[\"duration_type\"] != \"min\"), \"type\"] = \"tv show\""
   ]
  },
  {
   "cell_type": "code",
   "execution_count": 220,
   "metadata": {},
   "outputs": [
    {
     "data": {
      "text/plain": [
       "movie      16419\n",
       "tv show     6579\n",
       "Name: type, dtype: int64"
      ]
     },
     "execution_count": 220,
     "metadata": {},
     "output_type": "execute_result"
    }
   ],
   "source": [
    "# Comprobamos y se puede observar de que ahora están correctos los valores\n",
    "df[\"type\"].value_counts()"
   ]
  },
  {
   "cell_type": "code",
   "execution_count": 221,
   "metadata": {},
   "outputs": [
    {
     "data": {
      "text/plain": [
       "min       16419\n",
       "season     6579\n",
       "Name: duration_type, dtype: int64"
      ]
     },
     "execution_count": 221,
     "metadata": {},
     "output_type": "execute_result"
    }
   ],
   "source": [
    "df[\"duration_type\"].value_counts() "
   ]
  },
  {
   "cell_type": "code",
   "execution_count": 222,
   "metadata": {},
   "outputs": [],
   "source": [
    "# Separamos los valores en la columna \"listed_in\"\n",
    "split_values = df[\"listed_in\"].str.split(\", \", expand=True)\n",
    "\n",
    "# Aplicamos get_dummies a todas las columnas separadas\n",
    "dummies = pd.get_dummies(split_values, prefix=\"genero\", prefix_sep=\"_\")\n",
    "\n",
    "# Agrupamos las columnas por nombre y las sumamos\n",
    "dummies = dummies.groupby(dummies.columns, axis=1).sum()\n",
    "\n",
    "# Concatenamos las variables dummies con la base de datos original\n",
    "df = pd.concat([df, dummies], axis=1)\n",
    "\n",
    "# Todavia nos quedan muchos géneros por separado, dando un total de muchas columnas, entonces lo que hacemos es agruparlas de forma mas generalizada\n",
    "\n",
    "# Seleccionamos las columnas a combinar\n",
    "cols_to_combine = [\"genero_crime\", \"genero_crime tv shows\",\"genero_police/cop\",\"genero_spy/espionage\",\"genero_unscripted\",\"genero_action & adventure\", \"genero_action\", \"genero_adventure\", \"genero_action-adventure\",\"genero_military and war\",\"genero_tv action & adventure\",\"genero_horror\",\"genero_horror movies\",\"genero_tv horror\",\"genero_tv mysteries\"]\n",
    "cols_to_combine1 = [\"genero_fantasy\",\"genero_tv sci-fi & fantasy\",\"genero_sci-fi & fantasy\",\"genero_science & nature tv\",\"genero_science fiction\",\"genero_adult animation\", \"genero_animation\", \"genero_anime\", \"genero_anime features\",\"genero_anime series\"]\n",
    "cols_to_combine3 = [\"genero_and culture\",\"genero_and culture\", \"genero_classic & cult tv\", \"genero_classic movies\", \"genero_classics\",\"genero_cult movies\",\"genero_western\",\"genero_survival\",\"genero_animals & nature\", \"genero_documentaries\", \"genero_disaster\", \"genero_documentary\",\"genero_docuseries\",\"genero_historical\",\"genero_history\",\"genero_mystery\",\"genero_black stories\",\"genero_coming of age\"]\n",
    "cols_to_combine4 = [\"genero_science & technology\",\"genero_anthology\", \"genero_biographical\",\"genero_soap opera / melodrama\",\"genero_music videos and concerts\",\"genero_dance\",\"genero_arthouse\", \"genero_arts\",\"genero_music\",\"genero_concert film\",\"genero_music videos and concerts\",\"genero_musical\",\"genero_music & musicals\"]\n",
    "cols_to_combine6 = [\"genero_variety\",\"genero_teen tv shows\",\"genero_teen\",\"genero_talk show and variety\",\"genero_lgbtq+\",\"genero_lgbtq movies\",\"genero_lgbtq\",\"genero_latino\",\"genero_children & family movies\", \"genero_cartoons\", \"genero_buddy\", \"genero_family\",\"genero_kids\",\"genero_kids' tv\",\"genero_korean tv shows\",\"genero_independent movies\",\"genero_late night\"]\n",
    "cols_to_combine7 = [\"genero_british tv shows\", \"genero_international\", \"genero_international movies\", \"genero_international tv shows\"]\n",
    "cols_to_combine9 = [\"genero_travel\",\"genero_cooking & food\", \"genero_faith & spirituality\",\"genero_faith and spirituality\",\"genero_fitness\",\"genero_health & wellness\",\"genero_lifestyle\",\"genero_lifestyle & culture\",\"genero_medical\"]\n",
    "cols_to_combine10 = [\"genero_comedies\", \"genero_comedy\",\"genero_sketch comedy\",\"genero_stand-up comedy\",\"genero_stand-up comedy & talk shows\",\"genero_tv comedies\"]\n",
    "cols_to_combine11 = [\"genero_romance\",\"genero_romantic comedy\",\"genero_romantic movies\",\"genero_romantic tv shows\",\"genero_dramas\", \"genero_drama\",\"genero_suspense\",\"genero_thriller\",\"genero_thrillers\",\"genero_tv dramas\",\"genero_tv thrillers\"]\n",
    "cols_to_combine13 = [\"genero_tv shows\",\"genero_young adult audience\",\"genero_talk show\",\"genero_superhero\",\"genero_stand up\",\"genero_sports movies\",\"genero_sports\",\"genero_special interest\",\"genero_spanish-language tv shows\",\"genero_sitcom\",\"genero_series\",\"genero_movies\",\"genero_entertainment\",\"genero_game show / competition\",\"genero_game shows\",\"genero_news\",\"genero_parody\",\"genero_reality\",\"genero_reality tv\"]\n",
    "\n",
    "# Combinamos las columnas utilizando el método sum() de pandas\n",
    "df[\"accion\"] = df[cols_to_combine].sum(axis=1)\n",
    "df[\"animacion\"] = df[cols_to_combine1].sum(axis=1)\n",
    "df[\"documentales\"] = df[cols_to_combine3].sum(axis=1)\n",
    "df[\"arte y ciencia\"] = df[cols_to_combine4].sum(axis=1)\n",
    "df[\"familia\"] = df[cols_to_combine6].sum(axis=1)\n",
    "df[\"internacional\"] = df[cols_to_combine7].sum(axis=1)\n",
    "df[\"vida\"] = df[cols_to_combine9].sum(axis=1)\n",
    "df[\"comedia\"] = df[cols_to_combine10].sum(axis=1)\n",
    "df[\"drama\"] = df[cols_to_combine11].sum(axis=1)\n",
    "df[\"entretenimiento\"] = df[cols_to_combine13].sum(axis=1)\n",
    "\n",
    "# Eliminamos las columnas antiguas\n",
    "df.drop(columns=cols_to_combine, axis=1,inplace=True)\n",
    "df.drop(columns=cols_to_combine1, axis=1,inplace=True)\n",
    "df.drop(columns=cols_to_combine3, axis=1,inplace=True)\n",
    "df.drop(columns=cols_to_combine4, axis=1,inplace=True)\n",
    "df.drop(columns=cols_to_combine6, axis=1,inplace=True)\n",
    "df.drop(columns=cols_to_combine7, axis=1,inplace=True)\n",
    "df.drop(columns=cols_to_combine9, axis=1,inplace=True)\n",
    "df.drop(columns=cols_to_combine10, axis=1,inplace=True)\n",
    "df.drop(columns=cols_to_combine11, axis=1,inplace=True)\n",
    "df.drop(columns=cols_to_combine13, axis=1,inplace=True)\n",
    "\n",
    "df[\"accion\"] = df[\"accion\"].replace({2 : 1, 3 : 1  })\n",
    "df[\"animacion\"] = df[\"animacion\"].replace({2 : 1, 3 : 1  })\n",
    "df[\"documentales\"] = df[\"documentales\"].replace({2 : 1, 3 : 1  })\n",
    "df[\"arte y ciencia\"] = df[\"arte y ciencia\"].replace({2 : 1, 3 : 1  }) \n",
    "df[\"familia\"] = df[\"familia\"].replace({2 : 1, 3 : 1  })\n",
    "df[\"internacional\"] = df[\"internacional\"].replace({2 : 1, 3 : 1  })\n",
    "df[\"vida\"] = df[\"vida\"].replace({2 : 1, 3 : 1  })\n",
    "df[\"comedia\"] = df[\"comedia\"].replace({2 : 1, 3 : 1  })\n",
    "df[\"drama\"] = df[\"drama\"].replace({2 : 1, 3 : 1  })\n",
    "df[\"entretenimiento\"] = df[\"entretenimiento\"].replace({2 : 1, 3 : 1  })\n",
    "\n",
    "# dummies para type\n",
    "dummies2 = pd.get_dummies(df['type'])\n",
    "df = pd.concat([df, dummies2], axis=1)\n",
    "\n",
    "# Borramos las columnas a las cuales se les aplico las dummies\n",
    "df.drop([\"type\",\"listed_in\"],axis=1,inplace=True)"
   ]
  },
  {
   "cell_type": "code",
   "execution_count": 223,
   "metadata": {},
   "outputs": [],
   "source": [
    "# Aplicamos un preprocesamiento a \"rating\" y a \"id\" para convertirlos a numéricos\n",
    "le = preprocessing.LabelEncoder()\n",
    "df[\"rating\"] = le.fit_transform(df[\"rating\"])"
   ]
  },
  {
   "cell_type": "code",
   "execution_count": 224,
   "metadata": {},
   "outputs": [
    {
     "name": "stdout",
     "output_type": "stream",
     "text": [
      "<class 'pandas.core.frame.DataFrame'>\n",
      "RangeIndex: 22998 entries, 0 to 22997\n",
      "Data columns (total 20 columns):\n",
      " #   Column           Non-Null Count  Dtype  \n",
      "---  ------           --------------  -----  \n",
      " 0   title            22998 non-null  object \n",
      " 1   release_year     22998 non-null  int64  \n",
      " 2   rating           22998 non-null  int32  \n",
      " 3   description      22994 non-null  object \n",
      " 4   id               22998 non-null  object \n",
      " 5   score            22998 non-null  float64\n",
      " 6   duration_int     22998 non-null  int32  \n",
      " 7   duration_type    22998 non-null  object \n",
      " 8   accion           22998 non-null  int64  \n",
      " 9   animacion        22998 non-null  int64  \n",
      " 10  documentales     22998 non-null  int64  \n",
      " 11  arte y ciencia   22998 non-null  int64  \n",
      " 12  familia          22998 non-null  int64  \n",
      " 13  internacional    22998 non-null  int64  \n",
      " 14  vida             22998 non-null  int64  \n",
      " 15  comedia          22998 non-null  int64  \n",
      " 16  drama            22998 non-null  int64  \n",
      " 17  entretenimiento  22998 non-null  int64  \n",
      " 18  movie            22998 non-null  uint8  \n",
      " 19  tv show          22998 non-null  uint8  \n",
      "dtypes: float64(1), int32(2), int64(11), object(4), uint8(2)\n",
      "memory usage: 3.0+ MB\n"
     ]
    }
   ],
   "source": [
    "df.info()"
   ]
  },
  {
   "cell_type": "code",
   "execution_count": 232,
   "metadata": {},
   "outputs": [],
   "source": [
    "# Exportamos el df con las transformaciones\n",
    "df2 = df.copy()\n",
    "df2.drop([\"title\",\"description\",\"id\",\"duration_type\"],axis=1)\n",
    "df2.to_csv(\"df_modelo.csv\",index=False)"
   ]
  },
  {
   "attachments": {},
   "cell_type": "markdown",
   "metadata": {},
   "source": [
    "#### Comenzamos con el modelo"
   ]
  },
  {
   "cell_type": "code",
   "execution_count": 63,
   "metadata": {},
   "outputs": [],
   "source": [
    "# Es necesario convertir todas las columnas a str para el modelo\n",
    "for col in df.columns:\n",
    "    df[col] = df[col].astype(str)\n"
   ]
  },
  {
   "cell_type": "code",
   "execution_count": 64,
   "metadata": {},
   "outputs": [
    {
     "data": {
      "text/plain": [
       "Index(['title', 'release_year', 'rating', 'description', 'id', 'score',\n",
       "       'duration_int', 'duration_type', 'accion', 'animacion', 'documentales',\n",
       "       'arte y ciencia', 'familia', 'internacional', 'vida', 'comedia',\n",
       "       'drama', 'entretenimiento', 'movie', 'tv show'],\n",
       "      dtype='object')"
      ]
     },
     "execution_count": 64,
     "metadata": {},
     "output_type": "execute_result"
    }
   ],
   "source": [
    "df.columns"
   ]
  },
  {
   "cell_type": "code",
   "execution_count": 17,
   "metadata": {},
   "outputs": [
    {
     "data": {
      "text/html": [
       "<div>\n",
       "<style scoped>\n",
       "    .dataframe tbody tr th:only-of-type {\n",
       "        vertical-align: middle;\n",
       "    }\n",
       "\n",
       "    .dataframe tbody tr th {\n",
       "        vertical-align: top;\n",
       "    }\n",
       "\n",
       "    .dataframe thead th {\n",
       "        text-align: right;\n",
       "    }\n",
       "</style>\n",
       "<table border=\"1\" class=\"dataframe\">\n",
       "  <thead>\n",
       "    <tr style=\"text-align: right;\">\n",
       "      <th></th>\n",
       "      <th>title</th>\n",
       "      <th>release_year</th>\n",
       "      <th>rating</th>\n",
       "      <th>description</th>\n",
       "      <th>id</th>\n",
       "      <th>score</th>\n",
       "      <th>duration_int</th>\n",
       "      <th>duration_type</th>\n",
       "      <th>accion</th>\n",
       "      <th>animacion</th>\n",
       "      <th>documentales</th>\n",
       "      <th>arte y ciencia</th>\n",
       "      <th>familia</th>\n",
       "      <th>internacional</th>\n",
       "      <th>vida</th>\n",
       "      <th>comedia</th>\n",
       "      <th>drama</th>\n",
       "      <th>entretenimiento</th>\n",
       "      <th>movie</th>\n",
       "      <th>tv show</th>\n",
       "    </tr>\n",
       "  </thead>\n",
       "  <tbody>\n",
       "    <tr>\n",
       "      <th>1015</th>\n",
       "      <td>siberia (2018)</td>\n",
       "      <td>2018</td>\n",
       "      <td>16</td>\n",
       "      <td>when a business deal in russia goes south, a u...</td>\n",
       "      <td>as1016</td>\n",
       "      <td>3.52</td>\n",
       "      <td>105</td>\n",
       "      <td>min</td>\n",
       "      <td>1</td>\n",
       "      <td>0</td>\n",
       "      <td>0</td>\n",
       "      <td>0</td>\n",
       "      <td>0</td>\n",
       "      <td>0</td>\n",
       "      <td>0</td>\n",
       "      <td>0</td>\n",
       "      <td>1</td>\n",
       "      <td>0</td>\n",
       "      <td>1</td>\n",
       "      <td>0</td>\n",
       "    </tr>\n",
       "  </tbody>\n",
       "</table>\n",
       "</div>"
      ],
      "text/plain": [
       "               title release_year rating  \\\n",
       "1015  siberia (2018)         2018     16   \n",
       "\n",
       "                                            description      id score  \\\n",
       "1015  when a business deal in russia goes south, a u...  as1016  3.52   \n",
       "\n",
       "     duration_int duration_type accion animacion documentales arte y ciencia  \\\n",
       "1015          105           min      1         0            0              0   \n",
       "\n",
       "     familia internacional vida comedia drama entretenimiento movie tv show  \n",
       "1015       0             0    0       0     1               0     1       0  "
      ]
     },
     "execution_count": 17,
     "metadata": {},
     "output_type": "execute_result"
    }
   ],
   "source": [
    "df.sample()"
   ]
  },
  {
   "cell_type": "code",
   "execution_count": 18,
   "metadata": {},
   "outputs": [
    {
     "data": {
      "text/plain": [
       "{'recomendacion': [\"marvel studios' iron man\",\n",
       "  \"marvel studios' ant-man\",\n",
       "  \"marvel studios' captain marvel\",\n",
       "  \"marvel studios' iron man 3\",\n",
       "  'marvel studios legends']}"
      ]
     },
     "execution_count": 18,
     "metadata": {},
     "output_type": "execute_result"
    }
   ],
   "source": [
    "# Importar librerías\n",
    "import pandas as pd\n",
    "from sklearn.metrics.pairwise import cosine_similarity\n",
    "from sklearn.feature_extraction.text import TfidfVectorizer\n",
    "\n",
    "# Crear matriz de características\n",
    "tfidf = TfidfVectorizer(stop_words='english')\n",
    "\n",
    "# Combinar las columnas deseadas en una sola columna\n",
    "df['features'] = df['score'] +' '+ df['rating'] +' '+ df['accion'] +' '+ df['drama'] +' '+ df['animacion'] +' '+ df['documentales'] +' '+ df['arte y ciencia'] +' '+ df['familia'] +' '+ df['internacional'] +' '+ df['vida'] +' '+ df['comedia'] +' '+ df['entretenimiento'] +' '+ df['comedia']+' '+ df['movie'] +' '+ df['tv show']  +' '+ df['release_year'] +' '+ df['duration_int'] +' '+ df['title'] \n",
    "\n",
    "# Crear la matriz de características a partir de la columna combinada\n",
    "tfidf_matrix = tfidf.fit_transform(df['features'])\n",
    "cosine_sim = cosine_similarity(tfidf_matrix, tfidf_matrix)\n",
    "\n",
    "# Función para obtener recomendaciones\n",
    "def get_recommendations(title, cosine_sim=cosine_sim, df=df):\n",
    "    # Obtener el índice del elemento que coincide con el título\n",
    "    idx = df[df['title'] == title].index[0]\n",
    "    # Obtener las puntuaciones de similitud de coseno del elemento con todos los elementos\n",
    "    sim_scores = list(enumerate(cosine_sim[idx]))\n",
    "    # Ordenar los elementos según su puntuación de similitud de coseno\n",
    "    sim_scores = sorted(sim_scores, key=lambda x: x[1], reverse=True)\n",
    "    # Obtener los índices de los elementos más similares\n",
    "    sim_scores = sim_scores[1:11]\n",
    "    movie_indices = [i[0] for i in sim_scores]\n",
    "    # Devolver los títulos de los elementos más similares\n",
    "    peliculas = df[['title',\"score\"]].iloc[movie_indices]\n",
    "    # Ordenamos según \"score\" descendente\n",
    "    peliculas = peliculas.sort_values(by=\"score\",ascending = False)\n",
    "    # Convertimos a lista y solo tomamos el titulo\n",
    "    peliculas = list(peliculas[\"title\"])\n",
    "    # Retornamos un diccionario con una lista de las 5 películas ordenadas de forma descendente según el score\n",
    "    return {'recomendacion': peliculas[:5]}\n",
    "# Obtener recomendaciones para una película específica\n",
    "get_recommendations(\"marvel studios' iron man 2\")"
   ]
  },
  {
   "cell_type": "code",
   "execution_count": 19,
   "metadata": {},
   "outputs": [
    {
     "data": {
      "text/plain": [
       "0        3.47 9 0 1 0 0 0 0 0 0 1 0 1 1 0 2014 113 the ...\n",
       "1        3.55 0 0 1 0 0 0 0 1 0 0 0 0 1 0 2018 110 take...\n",
       "2        3.5 9 1 1 0 0 0 0 0 0 0 0 0 1 0 2017 74 secret...\n",
       "3        3.54 9 0 0 0 1 0 0 0 0 0 0 0 1 0 2014 69 pink:...\n",
       "4        3.48 9 0 1 1 0 0 0 0 0 0 0 0 1 0 1989 45 monst...\n",
       "                               ...                        \n",
       "22993    3.44 16 0 1 0 1 0 0 0 0 0 0 0 1 0 2007 158 zodiac\n",
       "22994    3.52 24 0 0 0 0 0 1 0 0 1 0 1 0 1 2018 2 zombi...\n",
       "22995    3.42 16 1 0 0 0 0 0 0 0 1 0 1 1 0 2009 88 zomb...\n",
       "22996       3.59 14 0 0 0 0 0 1 0 0 1 0 1 1 0 2006 88 zoom\n",
       "22997    3.53 18 0 1 0 0 1 0 1 0 0 0 0 1 0 2015 111 zubaan\n",
       "Name: features, Length: 22998, dtype: object"
      ]
     },
     "execution_count": 19,
     "metadata": {},
     "output_type": "execute_result"
    }
   ],
   "source": [
    "# Observamos las características utilizadas para recomendar\n",
    "df[\"features\"]"
   ]
  },
  {
   "cell_type": "code",
   "execution_count": 20,
   "metadata": {},
   "outputs": [
    {
     "data": {
      "text/html": [
       "<div>\n",
       "<style scoped>\n",
       "    .dataframe tbody tr th:only-of-type {\n",
       "        vertical-align: middle;\n",
       "    }\n",
       "\n",
       "    .dataframe tbody tr th {\n",
       "        vertical-align: top;\n",
       "    }\n",
       "\n",
       "    .dataframe thead th {\n",
       "        text-align: right;\n",
       "    }\n",
       "</style>\n",
       "<table border=\"1\" class=\"dataframe\">\n",
       "  <thead>\n",
       "    <tr style=\"text-align: right;\">\n",
       "      <th></th>\n",
       "      <th>title</th>\n",
       "      <th>release_year</th>\n",
       "      <th>rating</th>\n",
       "      <th>description</th>\n",
       "      <th>id</th>\n",
       "      <th>score</th>\n",
       "      <th>duration_int</th>\n",
       "      <th>duration_type</th>\n",
       "      <th>accion</th>\n",
       "      <th>animacion</th>\n",
       "      <th>...</th>\n",
       "      <th>arte y ciencia</th>\n",
       "      <th>familia</th>\n",
       "      <th>internacional</th>\n",
       "      <th>vida</th>\n",
       "      <th>comedia</th>\n",
       "      <th>drama</th>\n",
       "      <th>entretenimiento</th>\n",
       "      <th>movie</th>\n",
       "      <th>tv show</th>\n",
       "      <th>features</th>\n",
       "    </tr>\n",
       "  </thead>\n",
       "  <tbody>\n",
       "    <tr>\n",
       "      <th>10716</th>\n",
       "      <td>marvel studios' iron man 2</td>\n",
       "      <td>2010</td>\n",
       "      <td>15</td>\n",
       "      <td>inventor tony stark forges new alliances to co...</td>\n",
       "      <td>ds1049</td>\n",
       "      <td>3.48</td>\n",
       "      <td>125</td>\n",
       "      <td>min</td>\n",
       "      <td>1</td>\n",
       "      <td>1</td>\n",
       "      <td>...</td>\n",
       "      <td>0</td>\n",
       "      <td>0</td>\n",
       "      <td>0</td>\n",
       "      <td>0</td>\n",
       "      <td>0</td>\n",
       "      <td>0</td>\n",
       "      <td>1</td>\n",
       "      <td>1</td>\n",
       "      <td>0</td>\n",
       "      <td>3.48 15 1 0 1 0 0 0 0 0 0 1 0 1 0 2010 125 mar...</td>\n",
       "    </tr>\n",
       "  </tbody>\n",
       "</table>\n",
       "<p>1 rows × 21 columns</p>\n",
       "</div>"
      ],
      "text/plain": [
       "                            title release_year rating  \\\n",
       "10716  marvel studios' iron man 2         2010     15   \n",
       "\n",
       "                                             description      id score  \\\n",
       "10716  inventor tony stark forges new alliances to co...  ds1049  3.48   \n",
       "\n",
       "      duration_int duration_type accion animacion  ... arte y ciencia familia  \\\n",
       "10716          125           min      1         1  ...              0       0   \n",
       "\n",
       "      internacional vida comedia drama entretenimiento movie tv show  \\\n",
       "10716             0    0       0     0               1     1       0   \n",
       "\n",
       "                                                features  \n",
       "10716  3.48 15 1 0 1 0 0 0 0 0 0 1 0 1 0 2010 125 mar...  \n",
       "\n",
       "[1 rows x 21 columns]"
      ]
     },
     "execution_count": 20,
     "metadata": {},
     "output_type": "execute_result"
    }
   ],
   "source": [
    "# Buscamos la película que colocamos para la recomendación\n",
    "df[df[\"title\"] == \"marvel studios' iron man 2\"]"
   ]
  },
  {
   "cell_type": "code",
   "execution_count": 21,
   "metadata": {},
   "outputs": [
    {
     "data": {
      "text/html": [
       "<div>\n",
       "<style scoped>\n",
       "    .dataframe tbody tr th:only-of-type {\n",
       "        vertical-align: middle;\n",
       "    }\n",
       "\n",
       "    .dataframe tbody tr th {\n",
       "        vertical-align: top;\n",
       "    }\n",
       "\n",
       "    .dataframe thead th {\n",
       "        text-align: right;\n",
       "    }\n",
       "</style>\n",
       "<table border=\"1\" class=\"dataframe\">\n",
       "  <thead>\n",
       "    <tr style=\"text-align: right;\">\n",
       "      <th></th>\n",
       "      <th>title</th>\n",
       "      <th>release_year</th>\n",
       "      <th>rating</th>\n",
       "      <th>description</th>\n",
       "      <th>id</th>\n",
       "      <th>score</th>\n",
       "      <th>duration_int</th>\n",
       "      <th>duration_type</th>\n",
       "      <th>accion</th>\n",
       "      <th>animacion</th>\n",
       "      <th>...</th>\n",
       "      <th>arte y ciencia</th>\n",
       "      <th>familia</th>\n",
       "      <th>internacional</th>\n",
       "      <th>vida</th>\n",
       "      <th>comedia</th>\n",
       "      <th>drama</th>\n",
       "      <th>entretenimiento</th>\n",
       "      <th>movie</th>\n",
       "      <th>tv show</th>\n",
       "      <th>features</th>\n",
       "    </tr>\n",
       "  </thead>\n",
       "  <tbody>\n",
       "    <tr>\n",
       "      <th>10715</th>\n",
       "      <td>marvel studios' iron man</td>\n",
       "      <td>2008</td>\n",
       "      <td>15</td>\n",
       "      <td>jet-setting industrialist tony stark vows to p...</td>\n",
       "      <td>ds1048</td>\n",
       "      <td>3.56</td>\n",
       "      <td>127</td>\n",
       "      <td>min</td>\n",
       "      <td>1</td>\n",
       "      <td>1</td>\n",
       "      <td>...</td>\n",
       "      <td>0</td>\n",
       "      <td>0</td>\n",
       "      <td>0</td>\n",
       "      <td>0</td>\n",
       "      <td>0</td>\n",
       "      <td>0</td>\n",
       "      <td>1</td>\n",
       "      <td>1</td>\n",
       "      <td>0</td>\n",
       "      <td>3.56 15 1 0 1 0 0 0 0 0 0 1 0 1 0 2008 127 mar...</td>\n",
       "    </tr>\n",
       "  </tbody>\n",
       "</table>\n",
       "<p>1 rows × 21 columns</p>\n",
       "</div>"
      ],
      "text/plain": [
       "                          title release_year rating  \\\n",
       "10715  marvel studios' iron man         2008     15   \n",
       "\n",
       "                                             description      id score  \\\n",
       "10715  jet-setting industrialist tony stark vows to p...  ds1048  3.56   \n",
       "\n",
       "      duration_int duration_type accion animacion  ... arte y ciencia familia  \\\n",
       "10715          127           min      1         1  ...              0       0   \n",
       "\n",
       "      internacional vida comedia drama entretenimiento movie tv show  \\\n",
       "10715             0    0       0     0               1     1       0   \n",
       "\n",
       "                                                features  \n",
       "10715  3.56 15 1 0 1 0 0 0 0 0 0 1 0 1 0 2008 127 mar...  \n",
       "\n",
       "[1 rows x 21 columns]"
      ]
     },
     "execution_count": 21,
     "metadata": {},
     "output_type": "execute_result"
    }
   ],
   "source": [
    "# Comparamos con el primer resultado de la lista\n",
    "df[df[\"title\"] == \"marvel studios' iron man\"]"
   ]
  },
  {
   "cell_type": "code",
   "execution_count": 22,
   "metadata": {},
   "outputs": [],
   "source": [
    "#import pickle\n",
    "# Guardar el modelo en un archivo pickle\n",
    "#with open('modelo_recomendacion.pkl', 'wb') as f:\n",
    "#    pickle.dump(cosine_sim, f)\n"
   ]
  },
  {
   "cell_type": "code",
   "execution_count": 23,
   "metadata": {},
   "outputs": [],
   "source": [
    "#import pickle\n",
    "# Cargar el modelo desde el archivo pickle\n",
    "#with open('modelo_recomendacion.pkl', 'rb') as f:\n",
    "#    cosine_sim = pickle.load(f)\n"
   ]
  },
  {
   "attachments": {},
   "cell_type": "markdown",
   "metadata": {},
   "source": [
    "---"
   ]
  },
  {
   "attachments": {},
   "cell_type": "markdown",
   "metadata": {},
   "source": [
    "#### Debido a que el modelo resulta muy pesado, debo realizar otro modelo mas sencillo : "
   ]
  },
  {
   "attachments": {},
   "cell_type": "markdown",
   "metadata": {},
   "source": [
    "---"
   ]
  },
  {
   "cell_type": "code",
   "execution_count": 234,
   "metadata": {},
   "outputs": [],
   "source": [
    "from sklearn.metrics.pairwise import cosine_similarity\n",
    "from sklearn.preprocessing import StandardScaler\n",
    "\n",
    "def get_recommendations_new(title, df=df, num_recommendations=5):\n",
    "    features = df.drop([\"title\",\"description\",\"id\",\"duration_type\"],axis=1)\n",
    "    scaler = StandardScaler()\n",
    "    features = scaler.fit_transform(features)\n",
    "    # Obtener las características de la película a recomendar\n",
    "    df_filtrado = df[df['title'] == title]\n",
    "    # Si la película no se encuentra en el conjunto de datos, se crea un vector de características\n",
    "    caracteristicas = df_filtrado.drop([\"title\",\"description\",\"id\",\"duration_type\"],axis=1).values.reshape(1, -1)\n",
    "    \n",
    "    features_filtrado = scaler.transform(caracteristicas)\n",
    "    \n",
    "    similarity_matrix_filtrado = cosine_similarity(features_filtrado, features)\n",
    "    \n",
    "    sim_scores = list(enumerate(similarity_matrix_filtrado[0]))\n",
    "\n",
    "    # Ordenar las películas según su similitud\n",
    "    sim_scores = sorted(sim_scores, key=lambda x: x[1], reverse=True)\n",
    "\n",
    "    # Obtener los índices de las películas más similares\n",
    "    movie_indices = [i[0] for i in sim_scores[1:num_recommendations+1]]\n",
    "\n",
    "    peliculas = df[['title',\"score\"]].iloc[movie_indices].sort_values(by = \"score\",ascending=False)\n",
    "    peliculas = list(peliculas[\"title\"])\n",
    "     # Devolver los títulos de las películas más similares\n",
    "    return {'recomendacion': peliculas}\n"
   ]
  },
  {
   "cell_type": "code",
   "execution_count": 236,
   "metadata": {},
   "outputs": [
    {
     "name": "stderr",
     "output_type": "stream",
     "text": [
      "c:\\Users\\matia\\AppData\\Local\\Programs\\Python\\Python311\\Lib\\site-packages\\sklearn\\base.py:439: UserWarning: X does not have valid feature names, but StandardScaler was fitted with feature names\n",
      "  warnings.warn(\n"
     ]
    },
    {
     "data": {
      "text/plain": [
       "{'recomendacion': [\"marvel studios' captain america: the first avenger\",\n",
       "  'x-men: first class',\n",
       "  'real steel',\n",
       "  \"marvel studios' iron man 3\",\n",
       "  \"marvel studios' thor\"]}"
      ]
     },
     "execution_count": 236,
     "metadata": {},
     "output_type": "execute_result"
    }
   ],
   "source": [
    "get_recommendations_new(\"marvel studios' iron man\")"
   ]
  },
  {
   "cell_type": "code",
   "execution_count": 237,
   "metadata": {},
   "outputs": [
    {
     "name": "stderr",
     "output_type": "stream",
     "text": [
      "c:\\Users\\matia\\AppData\\Local\\Programs\\Python\\Python311\\Lib\\site-packages\\sklearn\\base.py:439: UserWarning: X does not have valid feature names, but StandardScaler was fitted with feature names\n",
      "  warnings.warn(\n"
     ]
    },
    {
     "data": {
      "text/plain": [
       "{'recomendacion': ['finding nemo',\n",
       "  'the lion king 1 1/2',\n",
       "  'tremors 3: back to perfection',\n",
       "  'valiant',\n",
       "  'hercules']}"
      ]
     },
     "execution_count": 237,
     "metadata": {},
     "output_type": "execute_result"
    }
   ],
   "source": [
    "get_recommendations_new(\"toy story 2\")"
   ]
  },
  {
   "attachments": {},
   "cell_type": "markdown",
   "metadata": {},
   "source": [
    "---"
   ]
  }
 ],
 "metadata": {
  "kernelspec": {
   "display_name": "Python 3",
   "language": "python",
   "name": "python3"
  },
  "language_info": {
   "codemirror_mode": {
    "name": "ipython",
    "version": 3
   },
   "file_extension": ".py",
   "mimetype": "text/x-python",
   "name": "python",
   "nbconvert_exporter": "python",
   "pygments_lexer": "ipython3",
   "version": "3.11.3"
  },
  "orig_nbformat": 4
 },
 "nbformat": 4,
 "nbformat_minor": 2
}
